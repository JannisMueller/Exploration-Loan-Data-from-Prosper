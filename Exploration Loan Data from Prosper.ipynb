{
 "cells": [
  {
   "cell_type": "markdown",
   "metadata": {},
   "source": [
    "# Exploration Loan Data from Prosper\n",
    "## by Jannis\n",
    "\n",
    "## Preliminary Wrangling\n",
    "\n",
    "This data set contains 113,937 loans with 81 variables on each loan, including loan amount, borrower rate (or interest rate), current loan status, borrower income, and many others"
   ]
  },
  {
   "cell_type": "code",
   "execution_count": 1,
   "metadata": {},
   "outputs": [],
   "source": [
    "# import all packages and set plots to be embedded inline\n",
    "import numpy as np\n",
    "import pandas as pd\n",
    "import matplotlib.pyplot as plt\n",
    "import seaborn as sb\n",
    "import requests\n",
    "import io\n",
    "\n",
    "%matplotlib inline\n",
    "pd.set_option('display.max_columns', 50)"
   ]
  },
  {
   "cell_type": "code",
   "execution_count": 4,
   "metadata": {},
   "outputs": [],
   "source": [
    "# Loading the dataset with request libary and saving dataset as CSV file\n",
    "url = 'https://s3.amazonaws.com/udacity-hosted-downloads/ud651/prosperLoanData.csv'\n",
    "response = requests.get(url).content\n",
    "data = pd.read_csv(io.StringIO(response.decode('utf-8')))\n",
    "data.to_csv('loan_data.csv')"
   ]
  },
  {
   "cell_type": "code",
   "execution_count": 2,
   "metadata": {},
   "outputs": [
    {
     "data": {
      "text/html": [
       "<div>\n",
       "<style scoped>\n",
       "    .dataframe tbody tr th:only-of-type {\n",
       "        vertical-align: middle;\n",
       "    }\n",
       "\n",
       "    .dataframe tbody tr th {\n",
       "        vertical-align: top;\n",
       "    }\n",
       "\n",
       "    .dataframe thead th {\n",
       "        text-align: right;\n",
       "    }\n",
       "</style>\n",
       "<table border=\"1\" class=\"dataframe\">\n",
       "  <thead>\n",
       "    <tr style=\"text-align: right;\">\n",
       "      <th></th>\n",
       "      <th>Unnamed: 0</th>\n",
       "      <th>ListingKey</th>\n",
       "      <th>ListingNumber</th>\n",
       "      <th>ListingCreationDate</th>\n",
       "      <th>CreditGrade</th>\n",
       "      <th>Term</th>\n",
       "      <th>LoanStatus</th>\n",
       "      <th>ClosedDate</th>\n",
       "      <th>BorrowerAPR</th>\n",
       "      <th>BorrowerRate</th>\n",
       "      <th>LenderYield</th>\n",
       "      <th>EstimatedEffectiveYield</th>\n",
       "      <th>EstimatedLoss</th>\n",
       "      <th>EstimatedReturn</th>\n",
       "      <th>ProsperRating (numeric)</th>\n",
       "      <th>ProsperRating (Alpha)</th>\n",
       "      <th>ProsperScore</th>\n",
       "      <th>ListingCategory (numeric)</th>\n",
       "      <th>BorrowerState</th>\n",
       "      <th>Occupation</th>\n",
       "      <th>EmploymentStatus</th>\n",
       "      <th>EmploymentStatusDuration</th>\n",
       "      <th>IsBorrowerHomeowner</th>\n",
       "      <th>CurrentlyInGroup</th>\n",
       "      <th>GroupKey</th>\n",
       "      <th>...</th>\n",
       "      <th>ProsperPrincipalBorrowed</th>\n",
       "      <th>ProsperPrincipalOutstanding</th>\n",
       "      <th>ScorexChangeAtTimeOfListing</th>\n",
       "      <th>LoanCurrentDaysDelinquent</th>\n",
       "      <th>LoanFirstDefaultedCycleNumber</th>\n",
       "      <th>LoanMonthsSinceOrigination</th>\n",
       "      <th>LoanNumber</th>\n",
       "      <th>LoanOriginalAmount</th>\n",
       "      <th>LoanOriginationDate</th>\n",
       "      <th>LoanOriginationQuarter</th>\n",
       "      <th>MemberKey</th>\n",
       "      <th>MonthlyLoanPayment</th>\n",
       "      <th>LP_CustomerPayments</th>\n",
       "      <th>LP_CustomerPrincipalPayments</th>\n",
       "      <th>LP_InterestandFees</th>\n",
       "      <th>LP_ServiceFees</th>\n",
       "      <th>LP_CollectionFees</th>\n",
       "      <th>LP_GrossPrincipalLoss</th>\n",
       "      <th>LP_NetPrincipalLoss</th>\n",
       "      <th>LP_NonPrincipalRecoverypayments</th>\n",
       "      <th>PercentFunded</th>\n",
       "      <th>Recommendations</th>\n",
       "      <th>InvestmentFromFriendsCount</th>\n",
       "      <th>InvestmentFromFriendsAmount</th>\n",
       "      <th>Investors</th>\n",
       "    </tr>\n",
       "  </thead>\n",
       "  <tbody>\n",
       "    <tr>\n",
       "      <th>0</th>\n",
       "      <td>0</td>\n",
       "      <td>1021339766868145413AB3B</td>\n",
       "      <td>193129</td>\n",
       "      <td>2007-08-26 19:09:29.263000000</td>\n",
       "      <td>C</td>\n",
       "      <td>36</td>\n",
       "      <td>Completed</td>\n",
       "      <td>2009-08-14 00:00:00</td>\n",
       "      <td>0.16516</td>\n",
       "      <td>0.1580</td>\n",
       "      <td>0.1380</td>\n",
       "      <td>NaN</td>\n",
       "      <td>NaN</td>\n",
       "      <td>NaN</td>\n",
       "      <td>NaN</td>\n",
       "      <td>NaN</td>\n",
       "      <td>NaN</td>\n",
       "      <td>0</td>\n",
       "      <td>CO</td>\n",
       "      <td>Other</td>\n",
       "      <td>Self-employed</td>\n",
       "      <td>2.0</td>\n",
       "      <td>True</td>\n",
       "      <td>True</td>\n",
       "      <td>NaN</td>\n",
       "      <td>...</td>\n",
       "      <td>NaN</td>\n",
       "      <td>NaN</td>\n",
       "      <td>NaN</td>\n",
       "      <td>0</td>\n",
       "      <td>NaN</td>\n",
       "      <td>78</td>\n",
       "      <td>19141</td>\n",
       "      <td>9425</td>\n",
       "      <td>2007-09-12 00:00:00</td>\n",
       "      <td>Q3 2007</td>\n",
       "      <td>1F3E3376408759268057EDA</td>\n",
       "      <td>330.43</td>\n",
       "      <td>11396.14</td>\n",
       "      <td>9425.00</td>\n",
       "      <td>1971.14</td>\n",
       "      <td>-133.18</td>\n",
       "      <td>0.0</td>\n",
       "      <td>0.0</td>\n",
       "      <td>0.0</td>\n",
       "      <td>0.0</td>\n",
       "      <td>1.0</td>\n",
       "      <td>0</td>\n",
       "      <td>0</td>\n",
       "      <td>0.0</td>\n",
       "      <td>258</td>\n",
       "    </tr>\n",
       "    <tr>\n",
       "      <th>1</th>\n",
       "      <td>1</td>\n",
       "      <td>10273602499503308B223C1</td>\n",
       "      <td>1209647</td>\n",
       "      <td>2014-02-27 08:28:07.900000000</td>\n",
       "      <td>NaN</td>\n",
       "      <td>36</td>\n",
       "      <td>Current</td>\n",
       "      <td>NaN</td>\n",
       "      <td>0.12016</td>\n",
       "      <td>0.0920</td>\n",
       "      <td>0.0820</td>\n",
       "      <td>0.07960</td>\n",
       "      <td>0.0249</td>\n",
       "      <td>0.05470</td>\n",
       "      <td>6.0</td>\n",
       "      <td>A</td>\n",
       "      <td>7.0</td>\n",
       "      <td>2</td>\n",
       "      <td>CO</td>\n",
       "      <td>Professional</td>\n",
       "      <td>Employed</td>\n",
       "      <td>44.0</td>\n",
       "      <td>False</td>\n",
       "      <td>False</td>\n",
       "      <td>NaN</td>\n",
       "      <td>...</td>\n",
       "      <td>NaN</td>\n",
       "      <td>NaN</td>\n",
       "      <td>NaN</td>\n",
       "      <td>0</td>\n",
       "      <td>NaN</td>\n",
       "      <td>0</td>\n",
       "      <td>134815</td>\n",
       "      <td>10000</td>\n",
       "      <td>2014-03-03 00:00:00</td>\n",
       "      <td>Q1 2014</td>\n",
       "      <td>1D13370546739025387B2F4</td>\n",
       "      <td>318.93</td>\n",
       "      <td>0.00</td>\n",
       "      <td>0.00</td>\n",
       "      <td>0.00</td>\n",
       "      <td>0.00</td>\n",
       "      <td>0.0</td>\n",
       "      <td>0.0</td>\n",
       "      <td>0.0</td>\n",
       "      <td>0.0</td>\n",
       "      <td>1.0</td>\n",
       "      <td>0</td>\n",
       "      <td>0</td>\n",
       "      <td>0.0</td>\n",
       "      <td>1</td>\n",
       "    </tr>\n",
       "    <tr>\n",
       "      <th>2</th>\n",
       "      <td>2</td>\n",
       "      <td>0EE9337825851032864889A</td>\n",
       "      <td>81716</td>\n",
       "      <td>2007-01-05 15:00:47.090000000</td>\n",
       "      <td>HR</td>\n",
       "      <td>36</td>\n",
       "      <td>Completed</td>\n",
       "      <td>2009-12-17 00:00:00</td>\n",
       "      <td>0.28269</td>\n",
       "      <td>0.2750</td>\n",
       "      <td>0.2400</td>\n",
       "      <td>NaN</td>\n",
       "      <td>NaN</td>\n",
       "      <td>NaN</td>\n",
       "      <td>NaN</td>\n",
       "      <td>NaN</td>\n",
       "      <td>NaN</td>\n",
       "      <td>0</td>\n",
       "      <td>GA</td>\n",
       "      <td>Other</td>\n",
       "      <td>Not available</td>\n",
       "      <td>NaN</td>\n",
       "      <td>False</td>\n",
       "      <td>True</td>\n",
       "      <td>783C3371218786870A73D20</td>\n",
       "      <td>...</td>\n",
       "      <td>NaN</td>\n",
       "      <td>NaN</td>\n",
       "      <td>NaN</td>\n",
       "      <td>0</td>\n",
       "      <td>NaN</td>\n",
       "      <td>86</td>\n",
       "      <td>6466</td>\n",
       "      <td>3001</td>\n",
       "      <td>2007-01-17 00:00:00</td>\n",
       "      <td>Q1 2007</td>\n",
       "      <td>5F7033715035555618FA612</td>\n",
       "      <td>123.32</td>\n",
       "      <td>4186.63</td>\n",
       "      <td>3001.00</td>\n",
       "      <td>1185.63</td>\n",
       "      <td>-24.20</td>\n",
       "      <td>0.0</td>\n",
       "      <td>0.0</td>\n",
       "      <td>0.0</td>\n",
       "      <td>0.0</td>\n",
       "      <td>1.0</td>\n",
       "      <td>0</td>\n",
       "      <td>0</td>\n",
       "      <td>0.0</td>\n",
       "      <td>41</td>\n",
       "    </tr>\n",
       "    <tr>\n",
       "      <th>3</th>\n",
       "      <td>3</td>\n",
       "      <td>0EF5356002482715299901A</td>\n",
       "      <td>658116</td>\n",
       "      <td>2012-10-22 11:02:35.010000000</td>\n",
       "      <td>NaN</td>\n",
       "      <td>36</td>\n",
       "      <td>Current</td>\n",
       "      <td>NaN</td>\n",
       "      <td>0.12528</td>\n",
       "      <td>0.0974</td>\n",
       "      <td>0.0874</td>\n",
       "      <td>0.08490</td>\n",
       "      <td>0.0249</td>\n",
       "      <td>0.06000</td>\n",
       "      <td>6.0</td>\n",
       "      <td>A</td>\n",
       "      <td>9.0</td>\n",
       "      <td>16</td>\n",
       "      <td>GA</td>\n",
       "      <td>Skilled Labor</td>\n",
       "      <td>Employed</td>\n",
       "      <td>113.0</td>\n",
       "      <td>True</td>\n",
       "      <td>False</td>\n",
       "      <td>NaN</td>\n",
       "      <td>...</td>\n",
       "      <td>NaN</td>\n",
       "      <td>NaN</td>\n",
       "      <td>NaN</td>\n",
       "      <td>0</td>\n",
       "      <td>NaN</td>\n",
       "      <td>16</td>\n",
       "      <td>77296</td>\n",
       "      <td>10000</td>\n",
       "      <td>2012-11-01 00:00:00</td>\n",
       "      <td>Q4 2012</td>\n",
       "      <td>9ADE356069835475068C6D2</td>\n",
       "      <td>321.45</td>\n",
       "      <td>5143.20</td>\n",
       "      <td>4091.09</td>\n",
       "      <td>1052.11</td>\n",
       "      <td>-108.01</td>\n",
       "      <td>0.0</td>\n",
       "      <td>0.0</td>\n",
       "      <td>0.0</td>\n",
       "      <td>0.0</td>\n",
       "      <td>1.0</td>\n",
       "      <td>0</td>\n",
       "      <td>0</td>\n",
       "      <td>0.0</td>\n",
       "      <td>158</td>\n",
       "    </tr>\n",
       "    <tr>\n",
       "      <th>4</th>\n",
       "      <td>4</td>\n",
       "      <td>0F023589499656230C5E3E2</td>\n",
       "      <td>909464</td>\n",
       "      <td>2013-09-14 18:38:39.097000000</td>\n",
       "      <td>NaN</td>\n",
       "      <td>36</td>\n",
       "      <td>Current</td>\n",
       "      <td>NaN</td>\n",
       "      <td>0.24614</td>\n",
       "      <td>0.2085</td>\n",
       "      <td>0.1985</td>\n",
       "      <td>0.18316</td>\n",
       "      <td>0.0925</td>\n",
       "      <td>0.09066</td>\n",
       "      <td>3.0</td>\n",
       "      <td>D</td>\n",
       "      <td>4.0</td>\n",
       "      <td>2</td>\n",
       "      <td>MN</td>\n",
       "      <td>Executive</td>\n",
       "      <td>Employed</td>\n",
       "      <td>44.0</td>\n",
       "      <td>True</td>\n",
       "      <td>False</td>\n",
       "      <td>NaN</td>\n",
       "      <td>...</td>\n",
       "      <td>11000.0</td>\n",
       "      <td>9947.9</td>\n",
       "      <td>NaN</td>\n",
       "      <td>0</td>\n",
       "      <td>NaN</td>\n",
       "      <td>6</td>\n",
       "      <td>102670</td>\n",
       "      <td>15000</td>\n",
       "      <td>2013-09-20 00:00:00</td>\n",
       "      <td>Q3 2013</td>\n",
       "      <td>36CE356043264555721F06C</td>\n",
       "      <td>563.97</td>\n",
       "      <td>2819.85</td>\n",
       "      <td>1563.22</td>\n",
       "      <td>1256.63</td>\n",
       "      <td>-60.27</td>\n",
       "      <td>0.0</td>\n",
       "      <td>0.0</td>\n",
       "      <td>0.0</td>\n",
       "      <td>0.0</td>\n",
       "      <td>1.0</td>\n",
       "      <td>0</td>\n",
       "      <td>0</td>\n",
       "      <td>0.0</td>\n",
       "      <td>20</td>\n",
       "    </tr>\n",
       "  </tbody>\n",
       "</table>\n",
       "<p>5 rows × 82 columns</p>\n",
       "</div>"
      ],
      "text/plain": [
       "   Unnamed: 0               ListingKey  ListingNumber  \\\n",
       "0           0  1021339766868145413AB3B         193129   \n",
       "1           1  10273602499503308B223C1        1209647   \n",
       "2           2  0EE9337825851032864889A          81716   \n",
       "3           3  0EF5356002482715299901A         658116   \n",
       "4           4  0F023589499656230C5E3E2         909464   \n",
       "\n",
       "             ListingCreationDate CreditGrade  Term LoanStatus  \\\n",
       "0  2007-08-26 19:09:29.263000000           C    36  Completed   \n",
       "1  2014-02-27 08:28:07.900000000         NaN    36    Current   \n",
       "2  2007-01-05 15:00:47.090000000          HR    36  Completed   \n",
       "3  2012-10-22 11:02:35.010000000         NaN    36    Current   \n",
       "4  2013-09-14 18:38:39.097000000         NaN    36    Current   \n",
       "\n",
       "            ClosedDate  BorrowerAPR  BorrowerRate  LenderYield  \\\n",
       "0  2009-08-14 00:00:00      0.16516        0.1580       0.1380   \n",
       "1                  NaN      0.12016        0.0920       0.0820   \n",
       "2  2009-12-17 00:00:00      0.28269        0.2750       0.2400   \n",
       "3                  NaN      0.12528        0.0974       0.0874   \n",
       "4                  NaN      0.24614        0.2085       0.1985   \n",
       "\n",
       "   EstimatedEffectiveYield  EstimatedLoss  EstimatedReturn  \\\n",
       "0                      NaN            NaN              NaN   \n",
       "1                  0.07960         0.0249          0.05470   \n",
       "2                      NaN            NaN              NaN   \n",
       "3                  0.08490         0.0249          0.06000   \n",
       "4                  0.18316         0.0925          0.09066   \n",
       "\n",
       "   ProsperRating (numeric) ProsperRating (Alpha)  ProsperScore  \\\n",
       "0                      NaN                   NaN           NaN   \n",
       "1                      6.0                     A           7.0   \n",
       "2                      NaN                   NaN           NaN   \n",
       "3                      6.0                     A           9.0   \n",
       "4                      3.0                     D           4.0   \n",
       "\n",
       "   ListingCategory (numeric) BorrowerState     Occupation EmploymentStatus  \\\n",
       "0                          0            CO          Other    Self-employed   \n",
       "1                          2            CO   Professional         Employed   \n",
       "2                          0            GA          Other    Not available   \n",
       "3                         16            GA  Skilled Labor         Employed   \n",
       "4                          2            MN      Executive         Employed   \n",
       "\n",
       "   EmploymentStatusDuration  IsBorrowerHomeowner  CurrentlyInGroup  \\\n",
       "0                       2.0                 True              True   \n",
       "1                      44.0                False             False   \n",
       "2                       NaN                False              True   \n",
       "3                     113.0                 True             False   \n",
       "4                      44.0                 True             False   \n",
       "\n",
       "                  GroupKey  ... ProsperPrincipalBorrowed  \\\n",
       "0                      NaN  ...                      NaN   \n",
       "1                      NaN  ...                      NaN   \n",
       "2  783C3371218786870A73D20  ...                      NaN   \n",
       "3                      NaN  ...                      NaN   \n",
       "4                      NaN  ...                  11000.0   \n",
       "\n",
       "   ProsperPrincipalOutstanding  ScorexChangeAtTimeOfListing  \\\n",
       "0                          NaN                          NaN   \n",
       "1                          NaN                          NaN   \n",
       "2                          NaN                          NaN   \n",
       "3                          NaN                          NaN   \n",
       "4                       9947.9                          NaN   \n",
       "\n",
       "  LoanCurrentDaysDelinquent  LoanFirstDefaultedCycleNumber  \\\n",
       "0                         0                            NaN   \n",
       "1                         0                            NaN   \n",
       "2                         0                            NaN   \n",
       "3                         0                            NaN   \n",
       "4                         0                            NaN   \n",
       "\n",
       "   LoanMonthsSinceOrigination  LoanNumber  LoanOriginalAmount  \\\n",
       "0                          78       19141                9425   \n",
       "1                           0      134815               10000   \n",
       "2                          86        6466                3001   \n",
       "3                          16       77296               10000   \n",
       "4                           6      102670               15000   \n",
       "\n",
       "   LoanOriginationDate  LoanOriginationQuarter                MemberKey  \\\n",
       "0  2007-09-12 00:00:00                 Q3 2007  1F3E3376408759268057EDA   \n",
       "1  2014-03-03 00:00:00                 Q1 2014  1D13370546739025387B2F4   \n",
       "2  2007-01-17 00:00:00                 Q1 2007  5F7033715035555618FA612   \n",
       "3  2012-11-01 00:00:00                 Q4 2012  9ADE356069835475068C6D2   \n",
       "4  2013-09-20 00:00:00                 Q3 2013  36CE356043264555721F06C   \n",
       "\n",
       "   MonthlyLoanPayment  LP_CustomerPayments  LP_CustomerPrincipalPayments  \\\n",
       "0              330.43             11396.14                       9425.00   \n",
       "1              318.93                 0.00                          0.00   \n",
       "2              123.32              4186.63                       3001.00   \n",
       "3              321.45              5143.20                       4091.09   \n",
       "4              563.97              2819.85                       1563.22   \n",
       "\n",
       "   LP_InterestandFees  LP_ServiceFees  LP_CollectionFees  \\\n",
       "0             1971.14         -133.18                0.0   \n",
       "1                0.00            0.00                0.0   \n",
       "2             1185.63          -24.20                0.0   \n",
       "3             1052.11         -108.01                0.0   \n",
       "4             1256.63          -60.27                0.0   \n",
       "\n",
       "   LP_GrossPrincipalLoss  LP_NetPrincipalLoss  \\\n",
       "0                    0.0                  0.0   \n",
       "1                    0.0                  0.0   \n",
       "2                    0.0                  0.0   \n",
       "3                    0.0                  0.0   \n",
       "4                    0.0                  0.0   \n",
       "\n",
       "   LP_NonPrincipalRecoverypayments  PercentFunded  Recommendations  \\\n",
       "0                              0.0            1.0                0   \n",
       "1                              0.0            1.0                0   \n",
       "2                              0.0            1.0                0   \n",
       "3                              0.0            1.0                0   \n",
       "4                              0.0            1.0                0   \n",
       "\n",
       "   InvestmentFromFriendsCount InvestmentFromFriendsAmount  Investors  \n",
       "0                           0                         0.0        258  \n",
       "1                           0                         0.0          1  \n",
       "2                           0                         0.0         41  \n",
       "3                           0                         0.0        158  \n",
       "4                           0                         0.0         20  \n",
       "\n",
       "[5 rows x 82 columns]"
      ]
     },
     "execution_count": 2,
     "metadata": {},
     "output_type": "execute_result"
    }
   ],
   "source": [
    "# creating new data frame called loan_data\n",
    "loan_data = pd.read_csv('loan_data.csv')\n",
    "loan_data.head()"
   ]
  },
  {
   "cell_type": "code",
   "execution_count": 3,
   "metadata": {
    "scrolled": false
   },
   "outputs": [
    {
     "name": "stdout",
     "output_type": "stream",
     "text": [
      "(113937, 82)\n",
      "Unnamed: 0                               int64\n",
      "ListingKey                              object\n",
      "ListingNumber                            int64\n",
      "ListingCreationDate                     object\n",
      "CreditGrade                             object\n",
      "Term                                     int64\n",
      "LoanStatus                              object\n",
      "ClosedDate                              object\n",
      "BorrowerAPR                            float64\n",
      "BorrowerRate                           float64\n",
      "LenderYield                            float64\n",
      "EstimatedEffectiveYield                float64\n",
      "EstimatedLoss                          float64\n",
      "EstimatedReturn                        float64\n",
      "ProsperRating (numeric)                float64\n",
      "ProsperRating (Alpha)                   object\n",
      "ProsperScore                           float64\n",
      "ListingCategory (numeric)                int64\n",
      "BorrowerState                           object\n",
      "Occupation                              object\n",
      "EmploymentStatus                        object\n",
      "EmploymentStatusDuration               float64\n",
      "IsBorrowerHomeowner                       bool\n",
      "CurrentlyInGroup                          bool\n",
      "GroupKey                                object\n",
      "DateCreditPulled                        object\n",
      "CreditScoreRangeLower                  float64\n",
      "CreditScoreRangeUpper                  float64\n",
      "FirstRecordedCreditLine                 object\n",
      "CurrentCreditLines                     float64\n",
      "                                        ...   \n",
      "TotalProsperLoans                      float64\n",
      "TotalProsperPaymentsBilled             float64\n",
      "OnTimeProsperPayments                  float64\n",
      "ProsperPaymentsLessThanOneMonthLate    float64\n",
      "ProsperPaymentsOneMonthPlusLate        float64\n",
      "ProsperPrincipalBorrowed               float64\n",
      "ProsperPrincipalOutstanding            float64\n",
      "ScorexChangeAtTimeOfListing            float64\n",
      "LoanCurrentDaysDelinquent                int64\n",
      "LoanFirstDefaultedCycleNumber          float64\n",
      "LoanMonthsSinceOrigination               int64\n",
      "LoanNumber                               int64\n",
      "LoanOriginalAmount                       int64\n",
      "LoanOriginationDate                     object\n",
      "LoanOriginationQuarter                  object\n",
      "MemberKey                               object\n",
      "MonthlyLoanPayment                     float64\n",
      "LP_CustomerPayments                    float64\n",
      "LP_CustomerPrincipalPayments           float64\n",
      "LP_InterestandFees                     float64\n",
      "LP_ServiceFees                         float64\n",
      "LP_CollectionFees                      float64\n",
      "LP_GrossPrincipalLoss                  float64\n",
      "LP_NetPrincipalLoss                    float64\n",
      "LP_NonPrincipalRecoverypayments        float64\n",
      "PercentFunded                          float64\n",
      "Recommendations                          int64\n",
      "InvestmentFromFriendsCount               int64\n",
      "InvestmentFromFriendsAmount            float64\n",
      "Investors                                int64\n",
      "Length: 82, dtype: object\n"
     ]
    }
   ],
   "source": [
    "# high-level overview of data shape and composition\n",
    "print(loan_data.shape)\n",
    "print(loan_data.dtypes)"
   ]
  },
  {
   "cell_type": "markdown",
   "metadata": {},
   "source": [
    "### The structure of the dataset\n",
    "\n",
    "The Data set contains 113,937 loans (rows) with 81 variables (columns) on each loan. Most variables are integers (numeric) or strings (objects). But the dataset also has some categorical variables: for example EmploymentStatus, ProsperScore, Term, IncomeRange\n",
    "\n",
    "\n",
    "### Main features of interest in the dataset\n",
    "\n",
    "The huge dataset with a lot of informaton (81 variables) allows me to have deeper look at the question what factors affect a loan’s outcome status (Cancelled, Chargedoff, Completed, Current, Defaulted, FinalPaymentInProgress, PastDue)?\n",
    "\n",
    "This is a very critical question for banks and loan companies in order to minimize the default risk and and to set the right interest rate (including setting a proper risk premium).\n",
    "\n",
    "This investigation might help to find out what factors predict the outcome of a loan best. \n",
    "  \n"
   ]
  },
  {
   "cell_type": "markdown",
   "metadata": {},
   "source": [
    "### Features in the dataset that will help support the investigation\n",
    "\n",
    "The factors that have the most influence on predicting the outcome of a loan and therefore of most interest are:\n",
    "\n",
    " - Term (The length of the loan expressed in months)\n",
    " - ProsperScore (custom risk score)\n",
    " - EmploymentStatus (The employment status of the borrower)\n",
    " - MonthlyLoanPayment (The scheduled monthly loan payment)\n",
    " - IncomeRange (The income range of the borrower at the time the listing was created)\n",
    " - BorrowerRate (The Borrower's interest rate for this loan)\n",
    " - LoanOriginalAmount (The origination amount of the loan)\n",
    " - OpenCreditLines (Number of open credit line)\n",
    " - TotalProsperPaymentsBilled (number of on time payments the borrower made on Prosper loans at the time they created this listing)\n",
    " - Recommendations (Number of recommendations the borrower had at the time the listing was created)"
   ]
  },
  {
   "cell_type": "markdown",
   "metadata": {},
   "source": [
    "Whereby I expect  to have  `ProsperScore`, `TotalProsperPaymentsBilled`, `EmploymentStatus`, `BorrowerRate`,  (high interest rate are associated with higher default risk) and `Income Range`  have  the strongest effect on the loan's outcome status.\n",
    " "
   ]
  },
  {
   "cell_type": "markdown",
   "metadata": {},
   "source": [
    "#### In the first step I will create a copy of the dataset with the variables of interest"
   ]
  },
  {
   "cell_type": "code",
   "execution_count": 5,
   "metadata": {},
   "outputs": [
    {
     "name": "stdout",
     "output_type": "stream",
     "text": [
      "   Term  ProsperScore EmploymentStatus  MonthlyLoanPayment  Recommendations  \\\n",
      "0    36           NaN    Self-employed              330.43                0   \n",
      "1    36           7.0         Employed              318.93                0   \n",
      "2    36           NaN    Not available              123.32                0   \n",
      "3    36           9.0         Employed              321.45                0   \n",
      "4    36           4.0         Employed              563.97                0   \n",
      "\n",
      "   BorrowerAPR  BorrowerRate  LoanOriginalAmount  OpenCreditLines  \\\n",
      "0      0.16516        0.1580                9425              4.0   \n",
      "1      0.12016        0.0920               10000             14.0   \n",
      "2      0.28269        0.2750                3001              NaN   \n",
      "3      0.12528        0.0974               10000              5.0   \n",
      "4      0.24614        0.2085               15000             19.0   \n",
      "\n",
      "   StatedMonthlyIncome  TotalProsperPaymentsBilled     IncomeRange  \n",
      "0          3083.333333                         NaN  $25,000-49,999  \n",
      "1          6125.000000                         NaN  $50,000-74,999  \n",
      "2          2083.333333                         NaN   Not displayed  \n",
      "3          2875.000000                         NaN  $25,000-49,999  \n",
      "4          9583.333333                        11.0       $100,000+  \n",
      "<class 'pandas.core.frame.DataFrame'>\n",
      "RangeIndex: 113937 entries, 0 to 113936\n",
      "Data columns (total 12 columns):\n",
      "Term                          113937 non-null int64\n",
      "ProsperScore                  84853 non-null float64\n",
      "EmploymentStatus              111682 non-null object\n",
      "MonthlyLoanPayment            113937 non-null float64\n",
      "Recommendations               113937 non-null int64\n",
      "BorrowerAPR                   113912 non-null float64\n",
      "BorrowerRate                  113937 non-null float64\n",
      "LoanOriginalAmount            113937 non-null int64\n",
      "OpenCreditLines               106333 non-null float64\n",
      "StatedMonthlyIncome           113937 non-null float64\n",
      "TotalProsperPaymentsBilled    22085 non-null float64\n",
      "IncomeRange                   113937 non-null object\n",
      "dtypes: float64(7), int64(3), object(2)\n",
      "memory usage: 10.4+ MB\n",
      "None\n"
     ]
    }
   ],
   "source": [
    "# create a copy of the dataset\n",
    "loan_data_clean = loan_data.copy()\n",
    "# include all variables that are needed in the investigation in the clean copy\n",
    "loan_data_clean = loan_data_clean[['Term','ProsperScore','EmploymentStatus', 'MonthlyLoanPayment', 'Recommendations','BorrowerAPR','BorrowerRate','LoanOriginalAmount', 'OpenCreditLines','StatedMonthlyIncome','TotalProsperPaymentsBilled', 'IncomeRange']]\n",
    "#getting a overview over the new dataset\n",
    "print(loan_data_clean.head())\n",
    "print(loan_data_clean.info())"
   ]
  },
  {
   "cell_type": "markdown",
   "metadata": {},
   "source": [
    "#### Since the variables EmploymentStatus, ProsperScore, Term, IncomeRange are basically categorical variabels, I will change their datatype till categorical"
   ]
  },
  {
   "cell_type": "code",
   "execution_count": 111,
   "metadata": {},
   "outputs": [
    {
     "name": "stdout",
     "output_type": "stream",
     "text": [
      "<class 'pandas.core.frame.DataFrame'>\n",
      "Int64Index: 112481 entries, 0 to 113936\n",
      "Data columns (total 13 columns):\n",
      "Term                          112481 non-null category\n",
      "ProsperScore                  83397 non-null category\n",
      "EmploymentStatus              110226 non-null category\n",
      "MonthlyLoanPayment            112481 non-null float64\n",
      "Recommendations               112481 non-null int64\n",
      "BorrowerAPR                   112456 non-null float64\n",
      "BorrowerRate                  112481 non-null float64\n",
      "LoanOriginalAmount            112481 non-null int64\n",
      "OpenCreditLines               104877 non-null float64\n",
      "StatedMonthlyIncome           112481 non-null float64\n",
      "TotalProsperPaymentsBilled    21258 non-null float64\n",
      "IncomeRange                   112481 non-null category\n",
      " EmploymentStatus             110226 non-null category\n",
      "dtypes: category(5), float64(6), int64(2)\n",
      "memory usage: 13.3 MB\n",
      "None\n"
     ]
    }
   ],
   "source": [
    "# changing the datatypes till categorical\n",
    "loan_data_clean['ProsperScore'] = loan_data_clean['ProsperScore'].astype('category')\n",
    "loan_data_clean['Term'] = loan_data_clean['Term'].astype('category')\n",
    "loan_data_clean['IncomeRange'] = loan_data_clean['IncomeRange'].astype('category')\n",
    "loan_data_clean['EmploymentStatus'] = loan_data_clean['EmploymentStatus'].astype('category')\n",
    "print(loan_data_clean.info())"
   ]
  },
  {
   "cell_type": "markdown",
   "metadata": {},
   "source": [
    "## Univariate Exploration\n",
    "\n",
    "I'll start by looking at the distribution of the main variable of interest\n",
    " - ProsperScore \n",
    " - TotalProsperPaymentsBilled\n",
    " - BorrowerRate\n",
    " - EmploymentStatus\n",
    " - IncomeRange\n",
    " \n",
    "\n",
    "Source for all interpretations:\n",
    "https://www.dummies.com/education/math/statistics/statistics-workbook-for-dummies-cheat-sheet/\n",
    "\n",
    "Diamonds Data Exploration- Example Project"
   ]
  },
  {
   "cell_type": "markdown",
   "metadata": {},
   "source": [
    "> In this section, investigate distributions of individual variables. If\n",
    "you see unusual points or outliers, take a deeper look to clean things up\n",
    "and prepare yourself to look at relationships between variables.\n",
    "\n",
    "\n"
   ]
  },
  {
   "cell_type": "markdown",
   "metadata": {},
   "source": [
    "> Make sure that, after every plot or related series of plots, that you\n",
    "include a Markdown cell with comments about what you observed, and what\n",
    "you plan on investigating next."
   ]
  },
  {
   "cell_type": "code",
   "execution_count": 13,
   "metadata": {},
   "outputs": [
    {
     "name": "stdout",
     "output_type": "stream",
     "text": [
      "count    84853.000000\n",
      "mean         5.950067\n",
      "std          2.376501\n",
      "min          1.000000\n",
      "25%          4.000000\n",
      "50%          6.000000\n",
      "75%          8.000000\n",
      "max         11.000000\n",
      "Name: ProsperScore, dtype: float64\n",
      "4.0     12595\n",
      "6.0     12278\n",
      "8.0     12053\n",
      "7.0     10597\n",
      "5.0      9813\n",
      "3.0      7642\n",
      "9.0      6911\n",
      "2.0      5766\n",
      "10.0     4750\n",
      "11.0     1456\n",
      "1.0       992\n",
      "Name: ProsperScore, dtype: int64\n"
     ]
    }
   ],
   "source": [
    "# getting a first overview over the variable ProsperScore\n",
    "print(loan_data_clean.ProsperScore.describe())\n",
    "print(loan_data_clean.ProsperScore.value_counts())"
   ]
  },
  {
   "cell_type": "code",
   "execution_count": 22,
   "metadata": {},
   "outputs": [
    {
     "data": {
      "image/png": "[encoded data removed]",
      "text/plain": [
       "<Figure size 432x288 with 1 Axes>"
      ]
     },
     "metadata": {
      "needs_background": "light"
     },
     "output_type": "display_data"
    }
   ],
   "source": [
    "# Bar Chart ProsperScore (custom risk score built using historical Prosper data)\n",
    "# The score ranges from 1-10, with 10 being the best, or lowest risk score)\n",
    "\n",
    "sb.countplot(data = loan_data_clean, x = 'ProsperScore', color = base_color, order = loan_data_clean['ProsperScore'].value_counts().index)\n",
    "plt.xlabel('Prosper Score (from 1-10, with 10 being the best)');"
   ]
  },
  {
   "cell_type": "markdown",
   "metadata": {},
   "source": [
    "The bar chart shows that there are customers in the data set that have a score of 11 which should not be possible since the score just ranges from 1-10 which needs to be cleaned in the next step"
   ]
  },
  {
   "cell_type": "code",
   "execution_count": 39,
   "metadata": {},
   "outputs": [
    {
     "data": {
      "text/html": [
       "<div>\n",
       "<style scoped>\n",
       "    .dataframe tbody tr th:only-of-type {\n",
       "        vertical-align: middle;\n",
       "    }\n",
       "\n",
       "    .dataframe tbody tr th {\n",
       "        vertical-align: top;\n",
       "    }\n",
       "\n",
       "    .dataframe thead th {\n",
       "        text-align: right;\n",
       "    }\n",
       "</style>\n",
       "<table border=\"1\" class=\"dataframe\">\n",
       "  <thead>\n",
       "    <tr style=\"text-align: right;\">\n",
       "      <th></th>\n",
       "      <th>Term</th>\n",
       "      <th>ProsperScore</th>\n",
       "      <th>EmploymentStatus</th>\n",
       "      <th>MonthlyLoanPayment</th>\n",
       "      <th>Recommendations</th>\n",
       "      <th>BorrowerAPR</th>\n",
       "      <th>BorrowerRate</th>\n",
       "      <th>LoanOriginalAmount</th>\n",
       "      <th>OpenCreditLines</th>\n",
       "      <th>StatedMonthlyIncome</th>\n",
       "      <th>TotalProsperPaymentsBilled</th>\n",
       "      <th>IncomeRange</th>\n",
       "    </tr>\n",
       "  </thead>\n",
       "  <tbody>\n",
       "  </tbody>\n",
       "</table>\n",
       "</div>"
      ],
      "text/plain": [
       "Empty DataFrame\n",
       "Columns: [Term, ProsperScore, EmploymentStatus, MonthlyLoanPayment, Recommendations, BorrowerAPR, BorrowerRate, LoanOriginalAmount, OpenCreditLines, StatedMonthlyIncome, TotalProsperPaymentsBilled, IncomeRange]\n",
       "Index: []"
      ]
     },
     "execution_count": 39,
     "metadata": {},
     "output_type": "execute_result"
    }
   ],
   "source": [
    "# I will exclude all customers with a Prosper Score of 11\n",
    "loan_data_clean = loan_data_clean[loan_data_clean['ProsperScore'] != 11]\n",
    "#dubbel check if the operation was succesful\n",
    "loan_data_clean[loan_data_clean['ProsperScore'] == 11]"
   ]
  },
  {
   "cell_type": "code",
   "execution_count": 40,
   "metadata": {},
   "outputs": [
    {
     "data": {
      "image/png": "[encoded data removed]",
      "text/plain": [
       "<Figure size 432x288 with 1 Axes>"
      ]
     },
     "metadata": {
      "needs_background": "light"
     },
     "output_type": "display_data"
    }
   ],
   "source": [
    "# now I will again plot the bar chart\n",
    "sb.countplot(data = loan_data_clean, x = 'ProsperScore', color = base_color, order = loan_data_clean['ProsperScore'].value_counts().index)\n",
    "plt.xlabel('Prosper Score (from 1-10, with 10 being the best)');"
   ]
  },
  {
   "cell_type": "markdown",
   "metadata": {},
   "source": [
    "#### Most of the borrower have a fairly low Prosper Score of 4 (custom risk score) while the majority of the customer have a score between 5-8. You can also see that even customers with the low risks score of 1 or 2 did get a loan from Prosper. Furthermore, not many borrowers received the highest score of 10"
   ]
  },
  {
   "cell_type": "code",
   "execution_count": 99,
   "metadata": {},
   "outputs": [
    {
     "data": {
      "text/plain": [
       "count    22085.000000\n",
       "mean        22.934345\n",
       "std         19.249584\n",
       "min          0.000000\n",
       "25%          9.000000\n",
       "50%         16.000000\n",
       "75%         33.000000\n",
       "max        141.000000\n",
       "Name: TotalProsperPaymentsBilled, dtype: float64"
      ]
     },
     "execution_count": 99,
     "metadata": {},
     "output_type": "execute_result"
    }
   ],
   "source": [
    "# getting a first overview over the TotalProsperPaymentsBilled\n",
    "loan_data.TotalProsperPaymentsBilled.describe()"
   ]
  },
  {
   "cell_type": "code",
   "execution_count": 52,
   "metadata": {},
   "outputs": [
    {
     "data": {
      "image/png": "[encoded data removed]",
      "text/plain": [
       "<Figure size 720x360 with 1 Axes>"
      ]
     },
     "metadata": {
      "needs_background": "light"
     },
     "output_type": "display_data"
    }
   ],
   "source": [
    "# Histogramm TotalProsperPaymentsBilled (Number of on time payments)\n",
    "binsize = 0.5\n",
    "bins = np.arange(loan_data_clean.TotalProsperPaymentsBilled.min(), loan_data_clean.TotalProsperPaymentsBilled.max()+binsize, binsize)\n",
    "\n",
    "plt.figure(figsize=[10, 5])\n",
    "plt.hist(data = loan_data_clean, x = 'TotalProsperPaymentsBilled', bins = bins)\n",
    "plt.xlabel('Number of on time payments')\n",
    "plt.ylabel('Count')\n",
    "plt.xticks([0,5,10,20,30,35,40,50,60,70,80,90,100,110,120,130,140,150])\n",
    "plt.show()"
   ]
  },
  {
   "cell_type": "markdown",
   "metadata": {},
   "source": [
    "#### The distribution of the Number of on time payments is long-tailed with two peaks: 9 and 35. It is interesting to see that the distribution is right-skewed with most of the values on the lower end and fewer values on the higher end. But we observe a second uprise between 30-36. This would make the distribution roughly bi-modial. On the first view it therefore seems like that most of the borrowers had missed to pay some of the monthly payments on time."
   ]
  },
  {
   "cell_type": "code",
   "execution_count": 53,
   "metadata": {},
   "outputs": [
    {
     "data": {
      "text/plain": [
       "count    113937.000000\n",
       "mean          0.192764\n",
       "std           0.074818\n",
       "min           0.000000\n",
       "25%           0.134000\n",
       "50%           0.184000\n",
       "75%           0.250000\n",
       "max           0.497500\n",
       "Name: BorrowerRate, dtype: float64"
      ]
     },
     "execution_count": 53,
     "metadata": {},
     "output_type": "execute_result"
    }
   ],
   "source": [
    "# getting a first overview over the variable BorrowerRate\n",
    "loan_data.BorrowerRate.describe()"
   ]
  },
  {
   "cell_type": "code",
   "execution_count": 62,
   "metadata": {},
   "outputs": [
    {
     "data": {
      "image/png": "[encoded data removed]",
      "text/plain": [
       "<Figure size 576x360 with 1 Axes>"
      ]
     },
     "metadata": {
      "needs_background": "light"
     },
     "output_type": "display_data"
    }
   ],
   "source": [
    "# Histogramm  BorrowerRate (Borrower's interest rate for this loan)\n",
    "binsize = 0.005\n",
    "bins = np.arange(loan_data.BorrowerRate.min(), loan_data.BorrowerRate.max()+binsize, binsize)\n",
    "\n",
    "plt.figure(figsize=[8, 5])\n",
    "plt.hist(data = loan_data_clean, x = 'BorrowerRate', bins = bins)\n",
    "plt.xlabel('Interest Rate')\n",
    "plt.ylabel('Count')\n",
    "plt.xticks([0.0,0.1,0.15,0.2,0.25,0.3,0.35,0.4,0.45,0.5])\n",
    "plt.show()"
   ]
  },
  {
   "cell_type": "markdown",
   "metadata": {},
   "source": [
    "#### One can see in the histogramm that most of the borrowers have an interest rate between of 0.1 and 0.25, but with a peak at around 0.33. "
   ]
  },
  {
   "cell_type": "code",
   "execution_count": 100,
   "metadata": {},
   "outputs": [
    {
     "name": "stdout",
     "output_type": "stream",
     "text": [
      "count             113937\n",
      "unique                 8\n",
      "top       $25,000-49,999\n",
      "freq               32192\n",
      "Name: IncomeRange, dtype: object\n",
      "$25,000-49,999    32192\n",
      "$50,000-74,999    31050\n",
      "$100,000+         17337\n",
      "$75,000-99,999    16916\n",
      "Not displayed      7741\n",
      "$1-24,999          7274\n",
      "Not employed        806\n",
      "$0                  621\n",
      "Name: IncomeRange, dtype: int64\n"
     ]
    }
   ],
   "source": [
    "# getting a first overview over the variable IncomeRange\n",
    "print(loan_data.IncomeRange.describe())\n",
    "print(loan_data.IncomeRange.value_counts())\n"
   ]
  },
  {
   "cell_type": "code",
   "execution_count": 101,
   "metadata": {},
   "outputs": [
    {
     "data": {
      "image/png": "[encoded data removed]",
      "text/plain": [
       "<Figure size 432x288 with 1 Axes>"
      ]
     },
     "metadata": {
      "needs_background": "light"
     },
     "output_type": "display_data"
    }
   ],
   "source": [
    "#Bar chart of the variable IncomeRange(The income range of the borrower at the time the listing was created)\n",
    "base_color = sb.color_palette()[0]\n",
    "sb.countplot(data= loan_data_clean, x= 'IncomeRange', color= base_color, order=loan_data_clean['IncomeRange'].value_counts().index)\n",
    "plt.xticks(rotation=25)\n",
    "plt.xlabel('Income Range ($)')\n",
    "plt.ylabel('Count');"
   ]
  },
  {
   "cell_type": "markdown",
   "metadata": {},
   "source": [
    "#### The income range of the borrowers shows that most of the loans where give to customers with a income between 25,000 and 74,999 which indicates that the borrowers are mostly middle-class (https://www.cnbc.com/2018/09/26/how-many-americans-qualify-as-middle-class.html). However, there are a fairly high number of borrowers that earns more than 75,000. One can also see that people that are not employed, not displayed their income or have an income of 0 received a loan from Prosper as well. They might be other criterias than income that qualifies one to get a loan at Prosper."
   ]
  },
  {
   "cell_type": "code",
   "execution_count": 16,
   "metadata": {},
   "outputs": [
    {
     "data": {
      "text/plain": [
       "count        19797\n",
       "unique           7\n",
       "top       Employed\n",
       "freq         13157\n",
       "Name: EmploymentStatus, dtype: object"
      ]
     },
     "execution_count": 16,
     "metadata": {},
     "output_type": "execute_result"
    }
   ],
   "source": [
    "# getting a first overview over the variable EmploymentStatus\n",
    "loan_data_clean.EmploymentStatus.describe()"
   ]
  },
  {
   "cell_type": "code",
   "execution_count": 64,
   "metadata": {},
   "outputs": [
    {
     "data": {
      "image/png": "[encoded data removed]",
      "text/plain": [
       "<Figure size 432x288 with 1 Axes>"
      ]
     },
     "metadata": {
      "needs_background": "light"
     },
     "output_type": "display_data"
    }
   ],
   "source": [
    "# plotting EmploymentStatus (The employment status of the borrower at the time they posted the listing) \n",
    "sb.countplot(data= loan_data_clean, x= 'EmploymentStatus', color= base_color, order=loan_data_clean['EmploymentStatus'].value_counts().index)\n",
    "plt.xticks(rotation=25)\n",
    "plt.xlabel('Employment Status')\n",
    "plt.ylabel('Count');"
   ]
  },
  {
   "cell_type": "markdown",
   "metadata": {},
   "source": [
    "#### As expected are most of the borrowers employed of some kind (full-time, part-time, self-emplpoyed) but the data shows that even unemployed and retired persons could get a loan."
   ]
  },
  {
   "cell_type": "markdown",
   "metadata": {},
   "source": [
    "#### Now I also will plot the remainig factors:\n",
    "\n",
    " - Term                                       \n",
    " - Recommendations                   \n",
    " - BorrowerAPR                                    \n",
    " - OpenCreditLines\n",
    " - LoanOriginalAmount \n",
    " - MonthlyLoanPayment\n",
    "               \n",
    "  "
   ]
  },
  {
   "cell_type": "code",
   "execution_count": 65,
   "metadata": {},
   "outputs": [
    {
     "name": "stdout",
     "output_type": "stream",
     "text": [
      "count    112481.000000\n",
      "mean         40.805932\n",
      "std          10.429597\n",
      "min          12.000000\n",
      "25%          36.000000\n",
      "50%          36.000000\n",
      "75%          36.000000\n",
      "max          60.000000\n",
      "Name: Term, dtype: float64\n",
      "36    86729\n",
      "60    24138\n",
      "12     1614\n",
      "Name: Term, dtype: int64\n"
     ]
    }
   ],
   "source": [
    "# getting a first overview over the variable Term\n",
    "print(loan_data_clean.Term.describe())\n",
    "print(loan_data_clean.Term.value_counts())"
   ]
  },
  {
   "cell_type": "code",
   "execution_count": 104,
   "metadata": {},
   "outputs": [
    {
     "data": {
      "image/png": "[encoded data removed]",
      "text/plain": [
       "<Figure size 432x288 with 1 Axes>"
      ]
     },
     "metadata": {
      "needs_background": "light"
     },
     "output_type": "display_data"
    }
   ],
   "source": [
    "# Bar chart of the variable Term (The length of the loan expressed in months)\n",
    "sb.countplot(data=loan_data_clean, x='Term', color=base_color, order = loan_data_clean['Term'].value_counts().index)\n",
    "plt.xlabel('Term of the loan (month)');\n"
   ]
  },
  {
   "cell_type": "code",
   "execution_count": 67,
   "metadata": {},
   "outputs": [
    {
     "data": {
      "text/plain": [
       "8252.601132635735"
      ]
     },
     "execution_count": 67,
     "metadata": {},
     "output_type": "execute_result"
    }
   ],
   "source": [
    "loan_data_clean.LoanOriginalAmount.mean()"
   ]
  },
  {
   "cell_type": "markdown",
   "metadata": {},
   "source": [
    "#### Most of the loans have of length of 36 months, followed by 60 months while just a small amounts of loans have the minium lenght of 12 months. The fact that most of the loans have a length of just 36 months might correlated to the fact the average loan amount is around 8200 dollar which can be paid back quick. "
   ]
  },
  {
   "cell_type": "code",
   "execution_count": 70,
   "metadata": {},
   "outputs": [
    {
     "name": "stdout",
     "output_type": "stream",
     "text": [
      "count    112481.000000\n",
      "mean          0.048221\n",
      "std           0.333715\n",
      "min           0.000000\n",
      "25%           0.000000\n",
      "50%           0.000000\n",
      "75%           0.000000\n",
      "max          39.000000\n",
      "Name: Recommendations, dtype: float64\n",
      "0     108264\n",
      "1       3480\n",
      "2        562\n",
      "3        108\n",
      "4         26\n",
      "5         14\n",
      "9          6\n",
      "7          5\n",
      "6          4\n",
      "8          3\n",
      "16         2\n",
      "18         2\n",
      "24         1\n",
      "14         1\n",
      "19         1\n",
      "21         1\n",
      "39         1\n",
      "Name: Recommendations, dtype: int64\n"
     ]
    }
   ],
   "source": [
    "# getting a first overview over the variable BorrowerAPR\n",
    "print(loan_data_clean.Recommendations.describe())\n",
    "print(loan_data_clean.Recommendations.value_counts())"
   ]
  },
  {
   "cell_type": "code",
   "execution_count": 105,
   "metadata": {},
   "outputs": [
    {
     "data": {
      "image/png": "[encoded data removed]",
      "text/plain": [
       "<Figure size 432x288 with 1 Axes>"
      ]
     },
     "metadata": {
      "needs_background": "light"
     },
     "output_type": "display_data"
    }
   ],
   "source": [
    "# plotting Recommendations(Number of recommendations the borrower had at the time of the loan)\n",
    "sb.countplot(data=loan_data_clean, x = 'Recommendations', color = base_color);"
   ]
  },
  {
   "cell_type": "markdown",
   "metadata": {},
   "source": [
    "#### One can see that most of the borrowers had 0 recommendations which suggest that the recommendations play a small role in the evalutation of a loan request"
   ]
  },
  {
   "cell_type": "code",
   "execution_count": 77,
   "metadata": {},
   "outputs": [
    {
     "data": {
      "text/plain": [
       "count    104877.000000\n",
       "mean          9.231633\n",
       "std           5.018118\n",
       "min           0.000000\n",
       "25%           6.000000\n",
       "50%           8.000000\n",
       "75%          12.000000\n",
       "max          54.000000\n",
       "Name: OpenCreditLines, dtype: float64"
      ]
     },
     "execution_count": 77,
     "metadata": {},
     "output_type": "execute_result"
    }
   ],
   "source": [
    "# getting a first overview over the variable OpenCreditLines\n",
    "loan_data_clean.OpenCreditLines.describe()"
   ]
  },
  {
   "cell_type": "code",
   "execution_count": 76,
   "metadata": {},
   "outputs": [
    {
     "data": {
      "image/png": "[encoded data removed]",
      "text/plain": [
       "<Figure size 576x360 with 1 Axes>"
      ]
     },
     "metadata": {
      "needs_background": "light"
     },
     "output_type": "display_data"
    }
   ],
   "source": [
    "# Histogramm OpenCreditLines (Number of open credit lines at the time the credit profile was pulled)\n",
    "binsize = 0.5\n",
    "bins = np.arange(0, loan_data_clean.OpenCreditLines.max()+binsize, binsize)\n",
    "\n",
    "plt.figure(figsize=[8, 5])\n",
    "plt.hist(data = loan_data_clean, x = 'OpenCreditLines', bins = bins)\n",
    "plt.xlabel('Open Credit Lines')\n",
    "plt.ylabel('Count')\n",
    "plt.xticks([0,5,10,15,20,25,30,35,40,45,50])\n",
    "plt.show()"
   ]
  },
  {
   "cell_type": "markdown",
   "metadata": {},
   "source": [
    "#### The distribution is long-tailed and right skewed with most borrowers having between 5 and 15 open credit lines. This sounds much but without having information more information of the amount of the loans, it is hard to give a more detailed statement\n"
   ]
  },
  {
   "cell_type": "code",
   "execution_count": 95,
   "metadata": {},
   "outputs": [
    {
     "name": "stdout",
     "output_type": "stream",
     "text": [
      "count    112481.000000\n",
      "mean       8252.601133\n",
      "std        6172.040285\n",
      "min        1000.000000\n",
      "25%        4000.000000\n",
      "50%        6001.000000\n",
      "75%       11500.000000\n",
      "max       35000.000000\n",
      "Name: LoanOriginalAmount, dtype: float64\n",
      "4000     14289\n",
      "15000    12176\n",
      "10000    10994\n",
      "5000      6941\n",
      "2000      6029\n",
      "3000      5722\n",
      "25000     3536\n",
      "1000      3206\n",
      "20000     3070\n",
      "2500      2982\n",
      "7500      2965\n",
      "7000      2936\n",
      "6000      2839\n",
      "3500      2552\n",
      "8000      2418\n",
      "12000     1872\n",
      "9000      1665\n",
      "1500      1507\n",
      "13000     1477\n",
      "4500      1397\n",
      "Name: LoanOriginalAmount, dtype: int64\n"
     ]
    }
   ],
   "source": [
    "# getting a first overview over the variable LoanOriginalAmount\n",
    "print(loan_data_clean.LoanOriginalAmount.describe())\n",
    "print(loan_data_clean.LoanOriginalAmount.value_counts().head(20))"
   ]
  },
  {
   "cell_type": "code",
   "execution_count": 93,
   "metadata": {},
   "outputs": [
    {
     "data": {
      "image/png": "[encoded data removed]",
      "text/plain": [
       "<Figure size 576x360 with 1 Axes>"
      ]
     },
     "metadata": {
      "needs_background": "light"
     },
     "output_type": "display_data"
    }
   ],
   "source": [
    "# Histogramm LoanOriginalAmount (The origination amount of the loan)\n",
    "binsize = 400\n",
    "bins = np.arange(0, loan_data_clean.LoanOriginalAmount.max()+binsize, binsize)\n",
    "\n",
    "plt.figure(figsize=[8, 5])\n",
    "plt.hist(data = loan_data_clean, x = 'LoanOriginalAmount', bins = bins)\n",
    "plt.xlabel('Amount of the Loan')\n",
    "plt.ylabel('Count')\n",
    "plt.xticks([0,2500,5000,7500,10000,12500,15000,17500,20000,22500,25000,30000,35000], rotation=25)\n",
    "plt.show()"
   ]
  },
  {
   "cell_type": "markdown",
   "metadata": {},
   "source": [
    "#### The distribution has serval peaks at around 4,000, 10,000 and 15,000. But most of the values are in the lower end between 2500 and 10,000. The most loaned amounts are 4,000 and 15,000. Its a little bit suprising that the two most loaned amounts have such a difference in terms of the loan amount. One would expect one peak but maybe Prosper targets several customer groups."
   ]
  },
  {
   "cell_type": "code",
   "execution_count": 102,
   "metadata": {},
   "outputs": [
    {
     "name": "stdout",
     "output_type": "stream",
     "text": [
      "count    112481.000000\n",
      "mean        270.513906\n",
      "std         191.234362\n",
      "min           0.000000\n",
      "25%         130.760000\n",
      "50%         215.990000\n",
      "75%         369.040000\n",
      "max        2251.510000\n",
      "Name: MonthlyLoanPayment, dtype: float64\n"
     ]
    }
   ],
   "source": [
    "# getting a first overview over the variable MonthlyLoanPayment\n",
    "print(loan_data_clean.MonthlyLoanPayment.describe())"
   ]
  },
  {
   "cell_type": "code",
   "execution_count": 103,
   "metadata": {},
   "outputs": [
    {
     "data": {
      "image/png": "[encoded data removed]",
      "text/plain": [
       "<Figure size 576x360 with 1 Axes>"
      ]
     },
     "metadata": {
      "needs_background": "light"
     },
     "output_type": "display_data"
    }
   ],
   "source": [
    "# Histogramm MonthlyLoanPayment (scheduled monthly loan payment)\n",
    "binsize = 10\n",
    "bins = np.arange(loan_data_clean.MonthlyLoanPayment.min(), loan_data_clean.MonthlyLoanPayment.max()+binsize, binsize)\n",
    "\n",
    "plt.figure(figsize=[8, 5])\n",
    "plt.hist(data = loan_data_clean, x = 'MonthlyLoanPayment', bins = bins)\n",
    "plt.xlabel('Monthly Loan Payment')\n",
    "plt.ylabel('Count')\n",
    "plt.xticks([0,200,400,600,800,1000,1200,1400,1600,1800,2000])\n",
    "plt.show()"
   ]
  },
  {
   "cell_type": "markdown",
   "metadata": {},
   "source": [
    "#### The distribution is right skrewed and long-tailed with a lot of loans with small montly payments. The peak is at around 200. A strange observation is the fact that around 1000 loans have a monthly payment of 0 which doesnt really make sense but might be related to some special arrangement (for example: the customer does not need to pay back the loan during the first 6 months). Therefore, I decided to the keep these values in the dataset."
   ]
  },
  {
   "cell_type": "markdown",
   "metadata": {},
   "source": [
    "### Discuss the distribution(s) of your variable(s) of interest. Were there any unusual points? Did you need to perform any transformations?\n",
    "\n",
    "\n",
    "> Your answer here!\n",
    "\n",
    "### Of the features you investigated, were there any unusual distributions? Did you perform any operations on the data to tidy, adjust, or change the form of the data? If so, why did you do this?\n",
    "Since the variables EmploymentStatus, ProsperScore, Term, IncomeRange are basically categorical variabels, I will change their datatype till categorical\n",
    "\n",
    "The bar chart shows that there are customers in the data set that have a score of 11 which should not be possible since the score just ranges from 1-10 which needs to be cleaned in the next step\n",
    "\n",
    "hat around 1000 loans have a monthly payment of 0 which doesnt really make sense but might be related to some special arrangement (for example: the customer does not need to pay back the loan during the first 6 months). Therefore, I decided to the keep these values in the dataset.\n",
    "\n",
    "> Your answer here!"
   ]
  },
  {
   "cell_type": "markdown",
   "metadata": {},
   "source": [
    "## Bivariate Exploration\n",
    "\n",
    "> In this section, investigate relationships between pairs of variables in your\n",
    "data. Make sure the variables that you cover here have been introduced in some\n",
    "fashion in the previous section (univariate exploration)."
   ]
  },
  {
   "cell_type": "code",
   "execution_count": null,
   "metadata": {},
   "outputs": [],
   "source": []
  },
  {
   "cell_type": "markdown",
   "metadata": {},
   "source": [
    "### Talk about some of the relationships you observed in this part of the investigation. How did the feature(s) of interest vary with other features in the dataset?\n",
    "\n",
    "> Your answer here!\n",
    "\n",
    "### Did you observe any interesting relationships between the other features (not the main feature(s) of interest)?\n",
    "\n",
    "> Your answer here!"
   ]
  },
  {
   "cell_type": "markdown",
   "metadata": {},
   "source": [
    "## Multivariate Exploration\n",
    "\n",
    "> Create plots of three or more variables to investigate your data even\n",
    "further. Make sure that your investigations are justified, and follow from\n",
    "your work in the previous sections."
   ]
  },
  {
   "cell_type": "code",
   "execution_count": null,
   "metadata": {},
   "outputs": [],
   "source": []
  },
  {
   "cell_type": "markdown",
   "metadata": {},
   "source": [
    "### Talk about some of the relationships you observed in this part of the investigation. Were there features that strengthened each other in terms of looking at your feature(s) of interest?\n",
    "\n",
    "> Your answer here!\n",
    "\n",
    "### Were there any interesting or surprising interactions between features?\n",
    "\n",
    "> Your answer here!"
   ]
  },
  {
   "cell_type": "markdown",
   "metadata": {},
   "source": [
    "> At the end of your report, make sure that you export the notebook as an\n",
    "html file from the `File > Download as... > HTML` menu. Make sure you keep\n",
    "track of where the exported file goes, so you can put it in the same folder\n",
    "as this notebook for project submission. Also, make sure you remove all of\n",
    "the quote-formatted guide notes like this one before you finish your report!"
   ]
  },
  {
   "cell_type": "markdown",
   "metadata": {},
   "source": [
    "### Engineering a new variable"
   ]
  },
  {
   "cell_type": "code",
   "execution_count": 50,
   "metadata": {},
   "outputs": [
    {
     "name": "stdout",
     "output_type": "stream",
     "text": [
      "0    3083.333333\n",
      "1    6125.000000\n",
      "2    2083.333333\n",
      "3    2875.000000\n",
      "4    9583.333333\n",
      "Name: StatedMonthlyIncome, dtype: float64\n",
      "0    330.43\n",
      "1    318.93\n",
      "2    123.32\n",
      "3    321.45\n",
      "4    563.97\n",
      "Name: MonthlyLoanPayment, dtype: float64\n"
     ]
    }
   ],
   "source": [
    "print(loan_data_clean.StatedMonthlyIncome.head())\n",
    "print(loan_data_clean.MonthlyLoanPayment.head())"
   ]
  },
  {
   "cell_type": "code",
   "execution_count": 43,
   "metadata": {},
   "outputs": [
    {
     "name": "stdout",
     "output_type": "stream",
     "text": [
      "14647    7.16\n",
      "41035    2.09\n",
      "66663    8.55\n",
      "Name: ratio_income_loanPayment, dtype: float64\n",
      "count    113922.00\n",
      "mean           inf\n",
      "std            NaN\n",
      "min           0.00\n",
      "25%           2.86\n",
      "50%           4.96\n",
      "75%           7.86\n",
      "max            inf\n",
      "Name: ratio_income_loanPayment, dtype: float64\n"
     ]
    }
   ],
   "source": [
    "# in the first step I create a new variable ratio_income_loanPayment\n",
    "loan_data_clean['ratio_income_loanPayment'] = (loan_data_clean.MonthlyLoanPayment / loan_data_clean.StatedMonthlyIncome)*100\n",
    "# round the ratio to 2 decimals\n",
    "loan_data_clean['ratio_income_loanPayment'] = loan_data_clean['ratio_income_loanPayment'].round(2)\n",
    "print(loan_data_clean['ratio_income_loanPayment'].sample(3))\n",
    "print(loan_data_clean['ratio_income_loanPayment'].describe())"
   ]
  },
  {
   "cell_type": "markdown",
   "metadata": {},
   "source": [
    "One can see from the statisitcs that there are null values and values generate by dividing by zero"
   ]
  },
  {
   "cell_type": "code",
   "execution_count": 37,
   "metadata": {},
   "outputs": [
    {
     "data": {
      "text/plain": [
       "4166.666667     3526\n",
       "5000.000000     3389\n",
       "3333.333333     2917\n",
       "3750.000000     2428\n",
       "5416.666667     2374\n",
       "5833.333333     2319\n",
       "6250.000000     2276\n",
       "2500.000000     2256\n",
       "4583.333333     2211\n",
       "6666.666667     2162\n",
       "2916.666667     1984\n",
       "8333.333333     1680\n",
       "4333.333333     1527\n",
       "7083.333333     1464\n",
       "7500.000000     1448\n",
       "3500.000000     1394\n",
       "0.000000        1394\n",
       "10000.000000    1282\n",
       "4000.000000     1260\n",
       "2083.333333     1256\n",
       "Name: StatedMonthlyIncome, dtype: int64"
      ]
     },
     "execution_count": 37,
     "metadata": {},
     "output_type": "execute_result"
    }
   ],
   "source": [
    "loan_data_clean.StatedMonthlyIncome.value_counts().head(20)"
   ]
  },
  {
   "cell_type": "code",
   "execution_count": 38,
   "metadata": {},
   "outputs": [
    {
     "data": {
      "text/plain": [
       "173.71    2423\n",
       "0.00       935\n",
       "172.76     536\n",
       "86.85      472\n",
       "174.20     460\n",
       "130.28     370\n",
       "163.28     286\n",
       "326.62     280\n",
       "166.54     277\n",
       "136.98     277\n",
       "165.15     271\n",
       "161.99     265\n",
       "169.78     256\n",
       "163.56     252\n",
       "45.24      248\n",
       "168.17     246\n",
       "168.89     227\n",
       "87.10      187\n",
       "67.85      184\n",
       "166.73     183\n",
       "Name: MonthlyLoanPayment, dtype: int64"
      ]
     },
     "execution_count": 38,
     "metadata": {},
     "output_type": "execute_result"
    }
   ],
   "source": [
    "loan_data_clean.MonthlyLoanPayment.value_counts().head(20)"
   ]
  }
 ],
 "metadata": {
  "jupytext": {
   "text_representation": {
    "extension": ".Rmd",
    "format_name": "rmarkdown",
    "format_version": "1.0",
    "jupytext_version": "0.8.6"
   }
  },
  "kernelspec": {
   "display_name": "Python 3",
   "language": "python",
   "name": "python3"
  },
  "language_info": {
   "codemirror_mode": {
    "name": "ipython",
    "version": 3
   },
   "file_extension": ".py",
   "mimetype": "text/x-python",
   "name": "python",
   "nbconvert_exporter": "python",
   "pygments_lexer": "ipython3",
   "version": "3.6.8"
  }
 },
 "nbformat": 4,
 "nbformat_minor": 2
}
